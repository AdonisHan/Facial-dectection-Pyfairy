{
 "cells": [
  {
   "cell_type": "code",
   "execution_count": 19,
   "metadata": {
    "collapsed": true
   },
   "outputs": [],
   "source": [
    "import pandas as pd\n",
    "from PIL import ImageDraw, Image\n",
    "import numpy as np\n",
    "from sklearn.utils import shuffle\n",
    "import seaborn as sns; sns.set(style=\"ticks\", color_codes=True)\n",
    "import matplotlib.pyplot as plt\n",
    "import statsmodels.api as sm\n",
    "%matplotlib inline\n",
    "#pd.options.mode.chained_assignment = None\n",
    "#pd.set_option('display.max_columns', 500)\n",
    "#pd.set_option('display.max_rows', 100)"
   ]
  },
  {
   "cell_type": "code",
   "execution_count": 20,
   "metadata": {},
   "outputs": [],
   "source": [
    "# -*- encoding: utf-8 -*-\n",
    "import time\n",
    "import theano\n",
    "import tensorflow as tf\n",
    "import tensorflow\n",
    "import sklearn\n",
    "# import seaborn as sns; sns.set(style=\"ticks\", color_codes=True)\n",
    "import scipy\n",
    "# import pydotplus\n",
    "# import pydot\n",
    "import pandas as pd\n",
    "import pandas\n",
    "import os\n",
    "import numpy as np\n",
    "import numpy\n",
    "# import matplotlib.pyplot as plt\n",
    "# import matplotlib\n",
    "import keras\n",
    "import h5py\n",
    "# import graphviz\n",
    "from sklearn.utils import shuffle\n",
    "from sklearn.svm import SVR\n",
    "from sklearn.cross_validation import train_test_split\n",
    "from scipy.misc import imsave\n",
    "from PIL import ImageDraw, Image # pip install Pillow\n",
    "from pandas.io.parsers import read_csv\n",
    "from keras.utils.vis_utils import model_to_dot\n",
    "from keras.preprocessing.image import ImageDataGenerator\n",
    "from keras.optimizers import SGD\n",
    "from keras.models import Sequential\n",
    "from keras.models import model_from_json\n",
    "from keras.layers.core import Dense, Activation, Flatten, Dropout\n",
    "from keras.layers.convolutional import MaxPooling2D\n",
    "from keras.layers.convolutional import Convolution2D, MaxPooling2D\n",
    "from keras.layers.convolutional import Conv2D\n",
    "from keras.layers import ZeroPadding2D, Convolution2D, MaxPooling2D\n",
    "from keras.layers import Flatten, Dense, Dropout\n",
    "from keras.layers import Flatten\n",
    "from keras.layers import Dense, Activation, Convolution2D, MaxPooling2D, Flatten, Dropout\n",
    "from keras.layers import Dense\n",
    "from keras.layers import Convolution2D, Activation, MaxPooling2D, Dropout\n",
    "from keras.layers import Activation, Flatten, Dense, Dropout\n",
    "from keras.callbacks import LearningRateScheduler, EarlyStopping\n",
    "from keras.callbacks import LearningRateScheduler\n",
    "from keras.callbacks import EarlyStopping, LearningRateScheduler\n",
    "from keras import backend as K\n",
    "from keras.layers.convolutional import Convolution2D, MaxPooling2D\n",
    "from keras.callbacks import EarlyStopping, LearningRateScheduler\n",
    "from keras.preprocessing.image import ImageDataGenerator\n",
    "from collections import OrderedDict\n",
    "from sklearn.cross_validation import train_test_split\n",
    "# from IPython.display import SVG\n",
    "# from collections import OrderedDict"
   ]
  },
  {
   "cell_type": "code",
   "execution_count": 2,
   "metadata": {
    "collapsed": true
   },
   "outputs": [],
   "source": [
    "FTRAIN = '../data/training.csv'\n",
    "FTEST = '../data/test.csv'"
   ]
  },
  {
   "cell_type": "code",
   "execution_count": 3,
   "metadata": {
    "collapsed": true
   },
   "outputs": [],
   "source": [
    "df = pd.read_csv(FTRAIN)"
   ]
  },
  {
   "cell_type": "markdown",
   "metadata": {},
   "source": [
    "# Visualize the NA data in DataFrame"
   ]
  },
  {
   "cell_type": "code",
   "execution_count": 5,
   "metadata": {},
   "outputs": [
    {
     "data": {
      "text/plain": [
       "<matplotlib.axes._subplots.AxesSubplot at 0x212a22e5630>"
      ]
     },
     "execution_count": 5,
     "metadata": {},
     "output_type": "execute_result"
    },
    {
     "data": {
      "image/png": "[encoded data removed]",
      "text/plain": [
       "<matplotlib.figure.Figure at 0x2129f1c2518>"
      ]
     },
     "metadata": {},
     "output_type": "display_data"
    }
   ],
   "source": [
    "sns.heatmap(df.isnull() == False, cbar=False, yticklabels=False)"
   ]
  },
  {
   "cell_type": "markdown",
   "metadata": {},
   "source": [
    "# MODEL : CNN - 1"
   ]
  },
  {
   "cell_type": "code",
   "execution_count": null,
   "metadata": {
    "collapsed": true
   },
   "outputs": [],
   "source": [
    "\n",
    "# from __future__ import print_function\n",
    "\n",
    "def load(test=False, cols=None):\n",
    "\n",
    "    fname = FTEST if test else FTRAIN\n",
    "    df = read_csv(os.path.expanduser(fname))  # load pandas datafram|e\n",
    "\n",
    "    # The Image column has pixel values separated by space; convert\n",
    "    # the values to numpy arrays:\n",
    "    df['Image'] = df['Image'].apply(lambda im: np.fromstring(im, sep=' '))\n",
    "\n",
    "    if cols:  # get a subset of columns\n",
    "        df = df[list(cols) + ['Image']]\n",
    "\n",
    "    # print(df.count())  # prints the number of values for each column\n",
    "    df = df.dropna()  # drop all rows that have missing values in them\n",
    "\n",
    "    X = np.vstack(df['Image'].values) / 255.  # scale pixel values to [0, 1]\n",
    "    X = X.astype(np.float32)\n",
    "\n",
    "    if not test:  # only FTRAIN has any target columns\n",
    "        y = df[df.columns[:-1]].values\n",
    "        y = (y - 48) / 48  # scale target coordinates to [-1, 1]\n",
    "        X, y = shuffle(X, y, random_state=42)  # shuffle train data\n",
    "        y = y.astype(np.float32)\n",
    "    else:\n",
    "        y = None\n",
    "\n",
    "    return X, y\n",
    "\n",
    "\n",
    "def load2d(test=False, cols=None):\n",
    "    X, y = load(test=test, cols=cols)\n",
    "    X = X.reshape(-1, 1, 96, 96)\n",
    "\n",
    "    return X, y\n",
    "\n",
    "# coding:utf-8\n",
    "\n",
    "def rmse(target, y_predicted):\n",
    "    rmse = K.sqrt(K.mean(K.square(y_predicted - target))) * 48\n",
    "    return rmse\n",
    "\n",
    "# If you use gpu when using theano backend\n",
    "# import theano\n",
    "# theano.config.device = 'gpu'\n",
    "# theano.config.floatX = 'float32'\n",
    "\n",
    "SPECIALIST_SETTINGS = [\n",
    "    dict(\n",
    "        columns=(\n",
    "            'left_eye_center_x', 'left_eye_center_y',\n",
    "            'right_eye_center_x', 'right_eye_center_y',\n",
    "        ),\n",
    "        flip_indices=((0, 2), (1, 3)),\n",
    "    ),\n",
    "\n",
    "    dict(\n",
    "        columns=(\n",
    "            'nose_tip_x', 'nose_tip_y',\n",
    "        ),\n",
    "        flip_indices=(),\n",
    "    ),\n",
    "\n",
    "    dict(\n",
    "        columns=(\n",
    "            'mouth_left_corner_x', 'mouth_left_corner_y',\n",
    "            'mouth_right_corner_x', 'mouth_right_corner_y',\n",
    "            'mouth_center_top_lip_x', 'mouth_center_top_lip_y',\n",
    "        ),\n",
    "        flip_indices=((0, 2), (1, 3)),\n",
    "    ),\n",
    "\n",
    "    dict(\n",
    "        columns=(\n",
    "            'mouth_center_bottom_lip_x',\n",
    "            'mouth_center_bottom_lip_y',\n",
    "        ),\n",
    "        flip_indices=(),\n",
    "    ),\n",
    "\n",
    "    dict(\n",
    "        columns=(\n",
    "            'left_eye_inner_corner_x', 'left_eye_inner_corner_y',\n",
    "            'right_eye_inner_corner_x', 'right_eye_inner_corner_y',\n",
    "            'left_eye_outer_corner_x', 'left_eye_outer_corner_y',\n",
    "            'right_eye_outer_corner_x', 'right_eye_outer_corner_y',\n",
    "        ),\n",
    "        flip_indices=((0, 2), (1, 3), (4, 6), (5, 7)),\n",
    "    ),\n",
    "\n",
    "    dict(\n",
    "        columns=(\n",
    "            'left_eyebrow_inner_end_x', 'left_eyebrow_inner_end_y',\n",
    "            'right_eyebrow_inner_end_x', 'right_eyebrow_inner_end_y',\n",
    "            'left_eyebrow_outer_end_x', 'left_eyebrow_outer_end_y',\n",
    "            'right_eyebrow_outer_end_x', 'right_eyebrow_outer_end_y',\n",
    "        ),\n",
    "        flip_indices=((0, 2), (1, 3), (4, 6), (5, 7)),\n",
    "    ),\n",
    "]\n",
    "\n",
    "\n",
    "class FlippedImageDataGenerator(ImageDataGenerator):\n",
    "    flip_indices = [(0, 2), (1, 3), (4, 8), (5, 9),\n",
    "                    (6, 10), (7, 11), (12, 16), (13, 17),\n",
    "                    (14, 18), (15, 19), (22, 24), (23, 25)]\n",
    "\n",
    "    def next(self):\n",
    "        X_batch, y_batch = super(FlippedImageDataGenerator, self).next()\n",
    "        batch_size = X_batch.shape[0]\n",
    "        indices = np.random.choice(batch_size, batch_size / 2, replace=False)\n",
    "        X_batch[indices] = X_batch[indices, :, :, ::-1]\n",
    "\n",
    "        if y_batch is not None:\n",
    "            y_batch[indices, ::2] = y_batch[indices, ::2] * -1\n",
    "\n",
    "            for a, b in self.flip_indices:\n",
    "                y_batch[indices, a], y_batch[indices, b] = (\n",
    "                    y_batch[indices, b], y_batch[indices, a]\n",
    "                )\n",
    "\n",
    "        return X_batch, y_batch\n",
    "\n",
    "\n",
    "    # fit of specialists\n",
    "def fit_specialists():\n",
    "    specialists = OrderedDict()\n",
    "    start = 0.03\n",
    "    stop = 0.001\n",
    "    #np_epoch = 10000\n",
    "    nb_epoch = 500\n",
    "    PRETRAIN = False\n",
    "    learning_rate = np.linspace(start, stop, nb_epoch)\n",
    "\n",
    "    for setting in SPECIALIST_SETTINGS:\n",
    "        cols = setting['columns']\n",
    "        X, y = load2d(cols=cols)\n",
    "        X_train, X_test, y_train, y_test = train_test_split(X, y,\n",
    "                                                test_size=0.2, random_state=42)\n",
    "        model = cnn_model()\n",
    "        if PRETRAIN:\n",
    "            model.load_weights('my_cnn_model_weights.h5')\n",
    "        model.layers.pop()\n",
    "        model.outputs = [model.layers[-1].output]\n",
    "        model.layers[-1].outbound_nodes = []\n",
    "        model.add(Dense(len(cols)))\n",
    "\n",
    "        sgd = SGD(lr=start, momentum=0.9, nesterov=True)\n",
    "        model.compile(loss='mse', optimizer=sgd)\n",
    "        lr_decay = LearningRateScheduler(lambda epoch: float(learning_rate[epoch]))\n",
    "        early_stop = EarlyStopping(patience=100)\n",
    "\n",
    "        flipgen = FlippedImageDataGenerator()\n",
    "        flipgen.flip_indices = setting['flip_indices']\n",
    "\n",
    "        print('Training model for columns {} for {} epochs'.format(cols, nb_epoch))\n",
    "\n",
    "        hist = model.fit_generator(flipgen.flow(X_train, y_train),\n",
    "                                samples_per_epoch=X_train.shape[0],\n",
    "                                nb_epoch=nb_epoch,\n",
    "                                validation_data=(X_test, y_test),\n",
    "                                callbacks=[ler_decay, early_stop])\n",
    "        #model save - weight, loss, val_loss\n",
    "        model.save_weights('my_cnn_model_{}_weights.h5'.format(cols[0]))\n",
    "        np.savetxt('my_cnn_model_{}_loss.csv'.format(cols[0]), hist.history['loss'])\n",
    "        np.savetxt('my_cnn_model_{}_val_loss.csv'.format(cols[0]), hist.history['val_loss'])\n",
    "\n",
    "        specialists[cols] = model\n",
    "\n",
    "\n",
    "\n",
    "\n",
    "#모델평가.\n",
    "'''\n",
    "def model_evaluate():\n",
    "    loss_and_metrics = model.evaluate(x_test, y_test, batch_size = 32)\n",
    "    print('')\n",
    "    print('loss : ' + str(loss_and_metrics[0]))\n",
    "    print('accuracy :' + str(loss_and_metrics[1]))\n",
    "    print('--evluate--')\n",
    "    scores = model.evaluate_generator(model.fit_generator, steps = 5)\n",
    "    print(\"%s: %.2f%%\"%(model.metrics_name[1], scores[1]*100))\n",
    "\n",
    "    return loss_and_metrics\n",
    "'''\n",
    "\n",
    "\n",
    "\n",
    "#plot\n",
    "'''\n",
    "def plot_loss():\n",
    "    loss = np.loadtxt('my_cnn_model_loss.csv')\n",
    "    val_loss = np.loadtxt('my_cnn_model_val_loss.csv')\n",
    "\n",
    "    plt.plot(loss, linewidth=3, label='train')\n",
    "    plt.plot(val_loss, linewidth=3, label='valid')\n",
    "    plt.grid()\n",
    "    plt.legend()\n",
    "    plt.xlabel('epoch')\n",
    "    plt.ylabel('loss')\n",
    "    #plt.ylim(1e-3, 1e-2)\n",
    "    plt.yscale('log')\n",
    "    plt.show()\n",
    "'''\n"
   ]
  },
  {
   "cell_type": "code",
   "execution_count": null,
   "metadata": {
    "collapsed": true
   },
   "outputs": [],
   "source": [
    "def cnn_model():\n",
    "\n",
    "    model = Sequential()\n",
    "\n",
    "# model.add(Conv2D(32, kernel_size(3, 3), input_shape=(96, 96,1)))\n",
    "# 컨볼루션 레이어 : 입력이미지 크기 96x96, 입력이미지 1개, 필터크기 3x3, 필터수 32개, 경게타입 same. 활성화 함수 relu\n",
    "    model.add(Conv2D(32, kernel_size=(3,3),padding='same',activation='relu', input_shape=(1,96,96)))\n",
    "#맥스풀링 레이어:풀크기 2x2\n",
    "    model.add(MaxPooling2D(pool_size=(2, 2), dim_ordering=\"th\"))\n",
    "    model.add(Dropout(0.1))\n",
    "# 컨볼루션 레이어 : 필터 크기 2 x 2, 필터 수 64개, 활성화 함수 ‘relu’\n",
    "    model.add(Conv2D(64, (2, 2),padding='same', activation='relu'))\n",
    "    #model.add(MaxPooling2D(pool_size=(2, 2)))\n",
    "    model.add(MaxPooling2D(pool_size=(2, 2), dim_ordering=\"th\"))\n",
    "    model.add(Dropout(0.2))\n",
    "\n",
    "# 컨볼루션 레이어 : 필터 크기 2 x 2, 필터 수 128개, 활성화 함수 ‘relu’\n",
    "    model.add(Conv2D(128, (2, 2), padding = 'same',activation='relu'))\n",
    "    model.add(MaxPooling2D(pool_size=(2, 2), dim_ordering=\"th\"))\n",
    "    model.add(Dropout(0.3))\n",
    "\n",
    "#플래튼 : 일차원으로 바꾸어준다.\n",
    "    model.add(Flatten())\n",
    "\n",
    "# 댄스 레이어 : 출력 뉴런 수 1000개, 활성화 함수 ‘relu’\n",
    "    model.add(Dense(1000))\n",
    "    model.add(Activation('relu'))\n",
    "    model.add(Dropout(0.5))\n",
    "# 댄스 레이어 : 출력 뉴런 수 1000개, 활성화 함수 ‘relu’\n",
    "    model.add(Dense(1000))\n",
    "    model.add(Activation('relu'))\n",
    "# 댄스 레이어 : 출력 뉴런 수 30개, 활성화 함수 ‘softmax’\n",
    "    model.add(Dense(30))\n",
    "    # model.add(Activation('softmax'))\n",
    "\n",
    "    return model\n",
    "\n",
    "def fit_model():\n",
    "    start = 0.03\n",
    "    stop = 0.001\n",
    "    #np_epoch = 10000\n",
    "    nb_epoch = 1000\n",
    "    PRETRAIN = False\n",
    "    learning_rate = np.linspace(start, stop, nb_epoch)\n",
    "\n",
    "    X, y = load2d()\n",
    "    X_train, X_test, y_train, y_test = train_test_split(X, y,\n",
    "                                                test_size=0.2, random_state=42)\n",
    "\n",
    "    model = cnn_model()\n",
    "    if PRETRAIN:\n",
    "        model.load_weights('my_cnn_model_weights.h5')\n",
    "    sgd = SGD(lr=start, momentum=0.9, nesterov=True)\n",
    "    model.compile(loss='mse', optimizer=sgd, metrics = [rmse])\n",
    "    change_lr = LearningRateScheduler(lambda epoch: float(learning_rate[epoch]))\n",
    "    early_stop = EarlyStopping(patience=100)\n",
    "\n",
    "    flipgen = FlippedImageDataGenerator()\n",
    "\n",
    "    hist = model.fit_generator(flipgen.flow(X_train, y_train),\n",
    "                            samples_per_epoch=X_train.shape[0],\n",
    "                            nb_epoch=nb_epoch,\n",
    "                            validation_data=(X_test, y_test),\n",
    "                            callbacks=[change_lr, early_stop])\n",
    "\n",
    "    #model save - weight, loss, val_loss\n",
    "    model.save_weights('my_cnn_model_weights.h5', overwrite=True)\n",
    "    np.savetxt('my_cnn_model_loss.csv', hist.history['loss'])\n",
    "    np.savetxt('my_cnn_model_val_loss.csv', hist.history['val_loss'])\n"
   ]
  },
  {
   "cell_type": "code",
   "execution_count": null,
   "metadata": {
    "collapsed": true
   },
   "outputs": [],
   "source": [
    "\n",
    "def main():\n",
    "    fit_model()\n",
    "    # fit_specialists()\n",
    "    # model_evaluate()\n",
    "    plot_loss()\n",
    "\n",
    "if __name__ == '__main__':\n",
    "    main()"
   ]
  },
  {
   "cell_type": "code",
   "execution_count": null,
   "metadata": {
    "collapsed": true
   },
   "outputs": [],
   "source": []
  },
  {
   "cell_type": "code",
   "execution_count": null,
   "metadata": {
    "collapsed": true
   },
   "outputs": [],
   "source": []
  },
  {
   "cell_type": "markdown",
   "metadata": {},
   "source": [
    "# cnn-1\n",
    "# epoch 1000\n",
    "### rsme 2.6518?"
   ]
  },
  {
   "cell_type": "code",
   "execution_count": 10,
   "metadata": {
    "collapsed": true
   },
   "outputs": [],
   "source": [
    "def plot_loss():\n",
    "    loss = np.loadtxt('my_cnn_model_loss_cnn1.csv')\n",
    "    val_loss = np.loadtxt('my_cnn_model_val_loss_cnn1.csv')\n",
    "\n",
    "    plt.plot(loss, linewidth=3, label='train')\n",
    "    plt.plot(val_loss, linewidth=3, label='valid')\n",
    "    plt.grid()\n",
    "    plt.legend()\n",
    "    plt.xlabel('epoch')\n",
    "    plt.ylabel('loss')\n",
    "    #plt.ylim(1e-3, 1e-2)\n",
    "    plt.yscale('log')\n",
    "    plt.show()\n",
    "    \n",
    "    "
   ]
  },
  {
   "cell_type": "code",
   "execution_count": 11,
   "metadata": {},
   "outputs": [
    {
     "data": {
      "image/png": "[encoded data removed]",
      "text/plain": [
       "<matplotlib.figure.Figure at 0x23df781ce10>"
      ]
     },
     "metadata": {},
     "output_type": "display_data"
    }
   ],
   "source": [
    "plot_loss()"
   ]
  },
  {
   "cell_type": "markdown",
   "metadata": {},
   "source": [
    "# cnn-1\n",
    "# epoch 3000"
   ]
  },
  {
   "cell_type": "code",
   "execution_count": 5,
   "metadata": {
    "collapsed": true
   },
   "outputs": [],
   "source": [
    "def plot_loss():\n",
    "    loss = np.loadtxt('C:/Users/adonist/git/1120 facial/epoch3000/my_cnn_model_loss.csv')\n",
    "    val_loss = np.loadtxt('C:/Users/adonist/git/1120 facial/epoch3000/my_cnn_model_val_loss.csv')\n",
    "\n",
    "    plt.plot(loss, linewidth=3, label='train')\n",
    "    plt.plot(val_loss, linewidth=3, label='valid')\n",
    "    plt.grid()\n",
    "    plt.legend()\n",
    "    plt.xlabel('epoch')\n",
    "    plt.ylabel('loss')\n",
    "    #plt.ylim(1e-3, 1e-2)\n",
    "    plt.yscale('log')\n",
    "    plt.show()"
   ]
  },
  {
   "cell_type": "code",
   "execution_count": 6,
   "metadata": {},
   "outputs": [
    {
     "data": {
      "image/png": "[encoded data removed]",
      "text/plain": [
       "<matplotlib.figure.Figure at 0x23df77a83c8>"
      ]
     },
     "metadata": {},
     "output_type": "display_data"
    }
   ],
   "source": [
    "plot_loss()"
   ]
  },
  {
   "cell_type": "code",
   "execution_count": null,
   "metadata": {
    "collapsed": true
   },
   "outputs": [],
   "source": []
  },
  {
   "cell_type": "code",
   "execution_count": null,
   "metadata": {
    "collapsed": true
   },
   "outputs": [],
   "source": []
  },
  {
   "cell_type": "code",
   "execution_count": null,
   "metadata": {
    "collapsed": true
   },
   "outputs": [],
   "source": []
  },
  {
   "cell_type": "markdown",
   "metadata": {},
   "source": [
    "# cnn29\n"
   ]
  },
  {
   "cell_type": "code",
   "execution_count": 21,
   "metadata": {
    "collapsed": true
   },
   "outputs": [],
   "source": [
    "def plot_loss():\n",
    "    loss = np.loadtxt('my_cnn_model_loss_cnn1.csv')\n",
    "    val_loss = np.loadtxt('my_cnn_model_val_loss_cnn1.csv')\n",
    "\n",
    "    plt.plot(loss, linewidth=3, label='train')\n",
    "    plt.plot(val_loss, linewidth=3, label='valid')\n",
    "    plt.grid()\n",
    "    plt.legend()\n",
    "    plt.xlabel('epoch')\n",
    "    plt.ylabel('loss')\n",
    "    #plt.ylim(1e-3, 1e-2)\n",
    "    plt.yscale('log')\n",
    "    plt.show()\n",
    "    "
   ]
  },
  {
   "cell_type": "code",
   "execution_count": 22,
   "metadata": {},
   "outputs": [
    {
     "data": {
      "image/png": "[encoded data removed]",
      "text/plain": [
       "<matplotlib.figure.Figure at 0x23dfac0d4e0>"
      ]
     },
     "metadata": {},
     "output_type": "display_data"
    }
   ],
   "source": [
    "plot_loss()"
   ]
  },
  {
   "cell_type": "code",
   "execution_count": null,
   "metadata": {
    "collapsed": true
   },
   "outputs": [],
   "source": [
    "# my_cnn_model_left_eye_center_x_loss"
   ]
  },
  {
   "cell_type": "code",
   "execution_count": null,
   "metadata": {
    "collapsed": true
   },
   "outputs": [],
   "source": [
    "def plot_loss():\n",
    "    loss = np.loadtxt('my_cnn_model_left_eye_center_x_loss_cnn.csv')\n",
    "    val_loss = np.loadtxt('my_cnn_model_left_eye_center_x_loss.csv')\n",
    "\n",
    "    plt.plot(loss, linewidth=3, label='train')\n",
    "    plt.plot(val_loss, linewidth=3, label='valid')\n",
    "    plt.grid()\n",
    "    plt.legend()\n",
    "    plt.xlabel('epoch')\n",
    "    plt.ylabel('loss')\n",
    "    #plt.ylim(1e-3, 1e-2)\n",
    "    plt.yscale('log')\n",
    "    plt.show()\n",
    "    \n",
    "    "
   ]
  },
  {
   "cell_type": "code",
   "execution_count": null,
   "metadata": {
    "collapsed": true
   },
   "outputs": [],
   "source": []
  },
  {
   "cell_type": "code",
   "execution_count": null,
   "metadata": {
    "collapsed": true
   },
   "outputs": [],
   "source": [
    "def plot_loss():\n",
    "    loss = np.loadtxt('my_cnn_model_loss_cnn1.csv')\n",
    "    val_loss = np.loadtxt('my_cnn_model_val_loss_cnn1.csv')\n",
    "\n",
    "    plt.plot(loss, linewidth=3, label='train')\n",
    "    plt.plot(val_loss, linewidth=3, label='valid')\n",
    "    plt.grid()\n",
    "    plt.legend()\n",
    "    plt.xlabel('epoch')\n",
    "    plt.ylabel('loss')\n",
    "    #plt.ylim(1e-3, 1e-2)\n",
    "    plt.yscale('log')\n",
    "    plt.show()\n",
    "    \n",
    "    "
   ]
  },
  {
   "cell_type": "code",
   "execution_count": null,
   "metadata": {
    "collapsed": true
   },
   "outputs": [],
   "source": []
  },
  {
   "cell_type": "code",
   "execution_count": null,
   "metadata": {
    "collapsed": true
   },
   "outputs": [],
   "source": [
    "def plot_loss():\n",
    "    loss = np.loadtxt('my_cnn_model_loss_cnn1.csv')\n",
    "    val_loss = np.loadtxt('my_cnn_model_val_loss_cnn1.csv')\n",
    "\n",
    "    plt.plot(loss, linewidth=3, label='train')\n",
    "    plt.plot(val_loss, linewidth=3, label='valid')\n",
    "    plt.grid()\n",
    "    plt.legend()\n",
    "    plt.xlabel('epoch')\n",
    "    plt.ylabel('loss')\n",
    "    #plt.ylim(1e-3, 1e-2)\n",
    "    plt.yscale('log')\n",
    "    plt.show()\n",
    "    \n",
    "    "
   ]
  },
  {
   "cell_type": "code",
   "execution_count": null,
   "metadata": {
    "collapsed": true
   },
   "outputs": [],
   "source": []
  },
  {
   "cell_type": "code",
   "execution_count": null,
   "metadata": {
    "collapsed": true
   },
   "outputs": [],
   "source": [
    "def plot_loss():\n",
    "    loss = np.loadtxt('my_cnn_model_loss_cnn1.csv')\n",
    "    val_loss = np.loadtxt('my_cnn_model_val_loss_cnn1.csv')\n",
    "\n",
    "    plt.plot(loss, linewidth=3, label='train')\n",
    "    plt.plot(val_loss, linewidth=3, label='valid')\n",
    "    plt.grid()\n",
    "    plt.legend()\n",
    "    plt.xlabel('epoch')\n",
    "    plt.ylabel('loss')\n",
    "    #plt.ylim(1e-3, 1e-2)\n",
    "    plt.yscale('log')\n",
    "    plt.show()\n",
    "    \n",
    "    "
   ]
  },
  {
   "cell_type": "code",
   "execution_count": null,
   "metadata": {
    "collapsed": true
   },
   "outputs": [],
   "source": []
  },
  {
   "cell_type": "code",
   "execution_count": null,
   "metadata": {
    "collapsed": true
   },
   "outputs": [],
   "source": [
    "def plot_loss():\n",
    "    loss = np.loadtxt('my_cnn_model_loss_cnn1.csv')\n",
    "    val_loss = np.loadtxt('my_cnn_model_val_loss_cnn1.csv')\n",
    "\n",
    "    plt.plot(loss, linewidth=3, label='train')\n",
    "    plt.plot(val_loss, linewidth=3, label='valid')\n",
    "    plt.grid()\n",
    "    plt.legend()\n",
    "    plt.xlabel('epoch')\n",
    "    plt.ylabel('loss')\n",
    "    #plt.ylim(1e-3, 1e-2)\n",
    "    plt.yscale('log')\n",
    "    plt.show()\n",
    "    \n",
    "    "
   ]
  },
  {
   "cell_type": "code",
   "execution_count": null,
   "metadata": {
    "collapsed": true
   },
   "outputs": [],
   "source": []
  },
  {
   "cell_type": "code",
   "execution_count": null,
   "metadata": {
    "collapsed": true
   },
   "outputs": [],
   "source": []
  },
  {
   "cell_type": "code",
   "execution_count": null,
   "metadata": {
    "collapsed": true
   },
   "outputs": [],
   "source": []
  }
 ],
 "metadata": {
  "kernelspec": {
   "display_name": "Python 3",
   "language": "python",
   "name": "python3"
  },
  "language_info": {
   "codemirror_mode": {
    "name": "ipython",
    "version": 3
   },
   "file_extension": ".py",
   "mimetype": "text/x-python",
   "name": "python",
   "nbconvert_exporter": "python",
   "pygments_lexer": "ipython3",
   "version": "3.5.3"
  }
 },
 "nbformat": 4,
 "nbformat_minor": 2
}
